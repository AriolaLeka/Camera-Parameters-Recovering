{
  "nbformat": 4,
  "nbformat_minor": 0,
  "metadata": {
    "colab": {
      "provenance": [],
      "gpuType": "T4"
    },
    "kernelspec": {
      "name": "python3",
      "display_name": "Python 3"
    },
    "language_info": {
      "name": "python"
    },
    "accelerator": "GPU"
  },
  "cells": [
    {
      "cell_type": "code",
      "execution_count": 155,
      "metadata": {
        "id": "XbMQukjiR7Vk"
      },
      "outputs": [],
      "source": [
        "\n",
        "#@title Imports\n",
        "import cv2\n",
        "from google.colab.patches import cv2_imshow\n",
        "from google.colab import drive\n",
        "import numpy as np\n",
        "import matplotlib.pyplot as plt\n",
        "import math\n"
      ]
    },
    {
      "cell_type": "code",
      "source": [
        "#@title Importing the image and the world coordinates (getting them from file to array) and the imaged coordinates\n",
        "\n",
        "\n",
        "drive.mount(\"/content/drive/\")  # Mounting Google Drive to access files\n",
        "\n",
        "coordinates_path = '/content/drive/MyDrive/CV-project2/coords.txt'  # Path to the coordinates file\n",
        "\n",
        "# Read the world coordinate file\n",
        "with open(coordinates_path) as f:\n",
        "    world_coordinates = f.read()\n",
        "\n",
        "lines = world_coordinates.split('\\n')  # Split the file content into lines\n",
        "\n",
        "real_world = []  # List to store the world coordinates\n",
        "\n",
        "# Iterate over each line\n",
        "for line in lines:\n",
        "    coordinates = line.split()  # Split the line into individual coordinates\n",
        "\n",
        "    # Convert the coordinates to float and add them to the list\n",
        "    coordinates = [float(coord) for coord in coordinates]\n",
        "    real_world.append(coordinates)\n",
        "\n",
        "real_world = real_world[:-1]  # Remove the last element (empty line)\n",
        "real_world = np.array(real_world)  # Convert the list to a NumPy array\n",
        "real_world_no_homogen = np.delete(real_world, -1, axis=1)  # Remove the last column (assumed to be homogeneous coordinates)\n",
        "# print(real_world)\n",
        "# print(real_world_no_homogen)\n",
        "\n",
        "# print(real_world)  # Print the resulting world coordinates array\n",
        "\n",
        "manually_figured_points = np.array([[286, 408, 1],\n",
        "                                    [414, 265, 1],\n",
        "                                    [482, 272, 1],\n",
        "                                    [607, 60, 1],\n",
        "                                    [750, 213, 1],\n",
        "                                    [574, 483, 1],\n",
        "                                    [410, 56, 1],\n",
        "                                    [679, 336, 1],\n",
        "                                    [276, 243, 1],\n",
        "                                    [734, 392, 1]])\n",
        "\n",
        "\n",
        "\n",
        "house2_10points = np.array([[286, 443, 1],\n",
        "                           [342, 286, 1],\n",
        "                           [375, 286, 1],\n",
        "                           [689, 70, 1],\n",
        "                           [807, 246, 1],\n",
        "                           [387, 536, 1],\n",
        "                           [341, 55, 1],\n",
        "                           [661, 389, 1],\n",
        "                           [282, 266, 1],\n",
        "                           [790, 478, 1]])\n",
        "\n",
        "\n",
        "# manually_figured_points_no_homogen = np.delete(manually_figured_points, -1, axis=1)\n",
        "# print(np.shape(manually_figured_points))  # Print the shape of the manually figured points array\n",
        "\n",
        "\n",
        "\n"
      ],
      "metadata": {
        "id": "Xf6I45b8TFie",
        "colab": {
          "base_uri": "https://localhost:8080/"
        },
        "outputId": "f2dfd711-207b-4812-c6c7-b595bbfb0b4d"
      },
      "execution_count": 156,
      "outputs": [
        {
          "output_type": "stream",
          "name": "stdout",
          "text": [
            "Drive already mounted at /content/drive/; to attempt to forcibly remount, call drive.mount(\"/content/drive/\", force_remount=True).\n"
          ]
        }
      ]
    },
    {
      "cell_type": "code",
      "source": [
        "#@title Find the projection matrix\n",
        "from numpy.linalg import matrix_rank\n",
        "from scipy.optimize import minimize\n",
        "import numpy as np\n",
        "\n",
        "x = manually_figured_points\n",
        "X = real_world\n",
        "\n",
        "\n",
        "A = [] # Initialize the list A\n",
        "\n",
        "for i in range(len(manually_figured_points)):\n",
        "\n",
        "    A.append([X[i][0], X[i][1], X[i][2], 1, 0, 0, 0, 0, *(-x[i][0]*X[i])])\n",
        "    A.append([0, 0, 0, 0, X[i][0], X[i][1], X[i][2], 1, *(-x[i][1]*X[i])])\n",
        "\n",
        "A = np.array(A)\n",
        "# Singular Value Decomposition (SVD) of A\n",
        "_, _, V = np.linalg.svd(A)\n",
        "\n",
        "# Smallest singular vector corresponding to the smallest singular value\n",
        "P_house_1 = V[-1].reshape(3,4)\n",
        "\n",
        "\n",
        "\n",
        "print(P_house_1)\n"
      ],
      "metadata": {
        "id": "e8y__3BR36a-",
        "colab": {
          "base_uri": "https://localhost:8080/"
        },
        "outputId": "cd60b5e9-22cf-40dc-8bae-c97abb331fc9"
      },
      "execution_count": 157,
      "outputs": [
        {
          "output_type": "stream",
          "name": "stdout",
          "text": [
            "[[-1.35985036e-01 -2.05287976e-01  1.24204300e-02 -7.42875968e-01]\n",
            " [ 7.32370218e-03 -1.07456747e-02  2.35700948e-01 -5.75864392e-01]\n",
            " [ 1.02347989e-04 -1.38353653e-04  2.54937711e-05 -1.44034056e-03]]\n"
          ]
        }
      ]
    },
    {
      "cell_type": "code",
      "source": [
        "print(np.shape(V))"
      ],
      "metadata": {
        "id": "KRdzjAx6uEvt",
        "colab": {
          "base_uri": "https://localhost:8080/"
        },
        "outputId": "49c04aea-5fbb-45d5-cd1b-09b4fe0d54c9"
      },
      "execution_count": 158,
      "outputs": [
        {
          "output_type": "stream",
          "name": "stdout",
          "text": [
            "(12, 12)\n"
          ]
        }
      ]
    },
    {
      "cell_type": "code",
      "source": [
        "x = house2_10points\n",
        "X = real_world\n",
        "\n",
        "\n",
        "A = [] # Initialize the matrix A\n",
        "\n",
        "for i in range(len(manually_figured_points)):\n",
        "\n",
        "    # Form the rows of A based on the equation X_hat_i * p = 0\n",
        "    A.append([X[i][0], X[i][1], X[i][2], 1, 0, 0, 0, 0, *(-x[i][0]*X[i])])\n",
        "    A.append([0, 0, 0, 0, X[i][0], X[i][1], X[i][2], 1, *(-x[i][1]*X[i])])\n",
        "\n",
        "A = np.array(A)\n",
        "# Singular Value Decomposition (SVD) of A\n",
        "_, _, V = np.linalg.svd(A)\n",
        "\n",
        "# Smallest singular vector corresponding to the smallest singular value\n",
        "P_house_2 = V[-1].reshape(3,4)\n",
        "\n",
        "print(P_house_2)\n",
        "\n"
      ],
      "metadata": {
        "id": "z77RJu0yiDr3",
        "colab": {
          "base_uri": "https://localhost:8080/"
        },
        "outputId": "9e897615-9f7e-464d-9a08-b9451cec0fc3"
      },
      "execution_count": 159,
      "outputs": [
        {
          "output_type": "stream",
          "name": "stdout",
          "text": [
            "[[-2.23612445e-02 -2.65920394e-01  3.93050773e-03 -6.97004619e-01]\n",
            " [ 3.45279752e-02 -1.53916924e-02  2.53249123e-01 -6.14320275e-01]\n",
            " [ 1.71136615e-04 -7.85605022e-05  9.38318696e-06 -1.33841542e-03]]\n"
          ]
        }
      ]
    },
    {
      "cell_type": "code",
      "source": [
        "pi = np.array([[0,0,1], [0,1,0], [1,0,0]])\n",
        "mpi_house1 = P_house_1[:, :3].T@pi\n",
        "mpi_house2 = P_house_2[:, :3].T@pi\n",
        "\n",
        "\n",
        "\n",
        "def QR_Decomposition(A):\n",
        "    n, m = A.shape # get the shape of A\n",
        "\n",
        "    Q = np.empty((n, n)) # initialize matrix Q\n",
        "    u = np.empty((n, n)) # initialize matrix u\n",
        "\n",
        "    u[:, 0] = A[:, 0]\n",
        "    Q[:, 0] = u[:, 0] / np.linalg.norm(u[:, 0])\n",
        "\n",
        "    for i in range(1, n):\n",
        "\n",
        "        u[:, i] = A[:, i]\n",
        "        for j in range(i):\n",
        "            u[:, i] -= (A[:, i] @ Q[:, j]) * Q[:, j] # get each u vector\n",
        "\n",
        "        Q[:, i] = u[:, i] / np.linalg.norm(u[:, i]) # compute each e vector\n",
        "\n",
        "    R = np.zeros((n, m))\n",
        "    for i in range(n):\n",
        "        for j in range(i, m):\n",
        "            R[i, j] = A[:, j] @ Q[:, i]\n",
        "\n",
        "    return Q, R\n",
        "\n",
        "Q, R = QR_Decomposition(mpi_house1)\n",
        "Q2, R2 = QR_Decomposition(mpi_house2)\n",
        "\n",
        "\n",
        "K = pi@R.T@pi\n",
        "R = pi@Q.T\n",
        "print(f'Rotation matrix for house 1:\\n{R}')\n",
        "print(f'Kalibration matrix for house 1:\\n{K}')\n",
        "print(\"\\n\")\n",
        "K2 = pi@R2.T@pi\n",
        "R2 = pi@Q2.T\n",
        "print(f'Rotation matrix for house 2:\\n{R2}')\n",
        "print(f'Kalibration matrix for house 2:\\n{K2}')\n",
        "# K = K / K[-1, -1]\n",
        "# print(K)\n",
        "# K2 = K2 / K2[-1, -1]\n",
        "# print(K2)"
      ],
      "metadata": {
        "id": "j5iu6kPlkgLH",
        "colab": {
          "base_uri": "https://localhost:8080/"
        },
        "outputId": "2ff7c32d-a544-4231-833a-3b2443f22a8e"
      },
      "execution_count": 160,
      "outputs": [
        {
          "output_type": "stream",
          "name": "stdout",
          "text": [
            "Rotation matrix for house 1:\n",
            "[[-0.80374416 -0.59497117 -0.00215096]\n",
            " [-0.0888966   0.11651386  0.98920267]\n",
            " [ 0.58829645 -0.79525708  0.14653825]]\n",
            "Kalibration matrix for house 1:\n",
            "[[2.31410891e-01 4.56035772e-04 8.50772707e-02]\n",
            " [0.00000000e+00 2.31252934e-01 4.73932861e-02]\n",
            " [0.00000000e+00 0.00000000e+00 1.73973494e-04]]\n",
            "\n",
            "\n",
            "Rotation matrix for house 2:\n",
            "[[-0.41726842 -0.90878178  0.00165744]\n",
            " [-0.04453716  0.02227084  0.99875946]\n",
            " [ 0.90769131 -0.41667696  0.04976748]]\n",
            "Kalibration matrix for house 2:\n",
            "[[ 2.51000764e-01 -1.00073124e-03  9.07014062e-02]\n",
            " [ 0.00000000e+00  2.51054392e-01  5.03576759e-02]\n",
            " [ 0.00000000e+00  0.00000000e+00  1.88540547e-04]]\n"
          ]
        }
      ]
    },
    {
      "cell_type": "code",
      "source": [
        "#@title Find the translation matrix\n",
        "last_column = P_house_1[:, -1]\n",
        "translation_1 = -np.linalg.inv(P_house_1[:,:3]) @ last_column\n",
        "print(f'C_tilde for house 1:\\n {translation_1}')\n",
        "\n",
        "\n",
        "last_column1 = P_house_2[:, -1]\n",
        "translation_2 = -np.linalg.inv(P_house_2[:,:3]) @ last_column1\n",
        "print(f'C_tilde for house 2:\\n {translation_2}')"
      ],
      "metadata": {
        "id": "oLuAaxRElSTz",
        "colab": {
          "base_uri": "https://localhost:8080/"
        },
        "outputId": "c5531226-fb55-4f1e-932e-62367ec68ea5"
      },
      "execution_count": 161,
      "outputs": [
        {
          "output_type": "stream",
          "name": "stdout",
          "text": [
            "C_tilde for house 1:\n",
            " [ 4.66750445 -6.58963996  1.99774696]\n",
            "C_tilde for house 2:\n",
            " [ 6.30794468 -3.13120773  1.37542483]\n"
          ]
        }
      ]
    },
    {
      "cell_type": "code",
      "source": [
        "p1 = P_house_1[:,0]\n",
        "p2 = P_house_1[:,1]\n",
        "p3 = P_house_1[:,2]\n",
        "p4 = P_house_1[:,3]\n",
        "\n",
        "\n",
        "print(np.allclose(K@R, P_house_1[:, :3]))\n",
        "print(np.allclose(-P_house_1[:, :3]@translation_1, p4))"
      ],
      "metadata": {
        "id": "vdCaeBZ-4cJ0",
        "colab": {
          "base_uri": "https://localhost:8080/"
        },
        "outputId": "d6fc464a-47f6-4414-a7c3-8c8b6545c5e5"
      },
      "execution_count": 162,
      "outputs": [
        {
          "output_type": "stream",
          "name": "stdout",
          "text": [
            "True\n",
            "True\n"
          ]
        }
      ]
    },
    {
      "cell_type": "code",
      "source": [
        "p1 = P_house_2[:,0]\n",
        "p2 = P_house_2[:,1]\n",
        "p3 = P_house_2[:,2]\n",
        "p4 = P_house_2[:,3]\n",
        "\n",
        "\n",
        "print(np.allclose(K2@R2, P_house_2[:, :3]))\n",
        "\n",
        "print(np.allclose(-P_house_2[:, :3]@translation_2, p4))"
      ],
      "metadata": {
        "id": "drRKKq2SyUMd",
        "colab": {
          "base_uri": "https://localhost:8080/"
        },
        "outputId": "3ecc087b-4e47-4343-c08b-58b3164ce5ce"
      },
      "execution_count": 163,
      "outputs": [
        {
          "output_type": "stream",
          "name": "stdout",
          "text": [
            "True\n",
            "True\n"
          ]
        }
      ]
    }
  ]
}